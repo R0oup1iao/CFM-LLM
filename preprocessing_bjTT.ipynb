{
 "cells": [
  {
   "cell_type": "code",
   "execution_count": 3,
   "metadata": {},
   "outputs": [],
   "source": [
    "import numpy as np\n",
    "import pandas as pd\n",
    "import json\n",
    "from pathlib import Path\n",
    "from einops import rearrange\n",
    "\n",
    "def load_ts_data(root_path, folder_id):\n",
    "    root_path = Path(root_path) \n",
    "    ts_path = root_path / f'data/{folder_id}'\n",
    "    ts_series = [np.load(p) for p in ts_path.glob('*.npy')]\n",
    "    ts_series = np.stack(ts_series, axis=0)\n",
    "    return ts_series"
   ]
  },
  {
   "cell_type": "code",
   "execution_count": 2,
   "metadata": {},
   "outputs": [
    {
     "data": {
      "text/plain": [
       "(32400, 36, 36, 2)"
      ]
     },
     "execution_count": 2,
     "metadata": {},
     "output_type": "execute_result"
    }
   ],
   "source": [
    "root_path = 'dataset/BjTT'\n",
    "tmp = []\n",
    "for folder_id in range(1, 4):\n",
    "    ds = load_ts_data(root_path, folder_id)\n",
    "    tmp.append(ds)\n",
    "ds = np.concatenate(tmp, axis=0)"
   ]
  },
  {
   "cell_type": "code",
   "execution_count": 5,
   "metadata": {},
   "outputs": [],
   "source": [
    "ds = rearrange(ds, \"t h w c -> t (w h) c\")\n",
    "ds = ds[:, :-233, 1]"
   ]
  },
  {
   "cell_type": "code",
   "execution_count": 15,
   "metadata": {},
   "outputs": [],
   "source": [
    "df = pd.DataFrame(ds, index=pd.date_range(start='2022-01-01', end='2022-4-1', freq='4min', inclusive='left'))\n",
    "df.to_csv('dataset/BjTT/bjtt.csv')"
   ]
  }
 ],
 "metadata": {
  "kernelspec": {
   "display_name": "Python 3",
   "language": "python",
   "name": "python3"
  },
  "language_info": {
   "codemirror_mode": {
    "name": "ipython",
    "version": 3
   },
   "file_extension": ".py",
   "mimetype": "text/x-python",
   "name": "python",
   "nbconvert_exporter": "python",
   "pygments_lexer": "ipython3",
   "version": "3.11.11"
  }
 },
 "nbformat": 4,
 "nbformat_minor": 2
}
